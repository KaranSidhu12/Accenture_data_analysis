{
 "cells": [
  {
   "cell_type": "code",
   "execution_count": 73,
   "id": "44f7ca7d",
   "metadata": {},
   "outputs": [],
   "source": [
    "import pandas as pd\n",
    "import numpy as np"
   ]
  },
  {
   "cell_type": "code",
   "execution_count": 74,
   "id": "6a12ddc5",
   "metadata": {},
   "outputs": [],
   "source": [
    "df1=pd.read_csv(\"Content.csv\")\n",
    "df2=pd.read_csv(\"Reactions.csv\")\n",
    "df3=pd.read_csv(\"ReactionTypes.csv\")"
   ]
  },
  {
   "cell_type": "code",
   "execution_count": 75,
   "id": "2c14759b",
   "metadata": {},
   "outputs": [],
   "source": [
    "df1.head()\n",
    "df1.rename(columns={'Type': 'Content_Type'}, inplace=True)\n"
   ]
  },
  {
   "cell_type": "code",
   "execution_count": 76,
   "id": "c7e596fc",
   "metadata": {},
   "outputs": [],
   "source": [
    "#df1.rename(columns={'Type': 'Content_Type'}, inplace=True)\n",
    "#df1.drop(['User ID', 'URL'], axis=1,inplace=True)\n",
    "# Drop the 'Unnamed' column permanently\n",
    "\n",
    "\n"
   ]
  },
  {
   "cell_type": "code",
   "execution_count": 77,
   "id": "c058e8c1",
   "metadata": {},
   "outputs": [
    {
     "name": "stdout",
     "output_type": "stream",
     "text": [
      "['Studying' 'healthy eating' 'technology' 'food' 'cooking' 'dogs' 'soccer'\n",
      " 'public speaking' 'science' 'tennis' 'travel' 'fitness' 'education'\n",
      " 'studying' 'veganism' 'Animals' 'animals' 'culture' '\"culture\"' 'Fitness'\n",
      " '\"studying\"' 'Veganism' '\"animals\"' 'Travel' '\"soccer\"' 'Education'\n",
      " '\"dogs\"' 'Technology' 'Soccer' '\"tennis\"' 'Culture' '\"food\"' 'Food'\n",
      " '\"technology\"' 'Healthy Eating' '\"cooking\"' 'Science' '\"public speaking\"'\n",
      " '\"veganism\"' 'Public Speaking' '\"science\"']\n"
     ]
    },
    {
     "data": {
      "text/plain": [
       "Category\n",
       "technology           71\n",
       "animals              67\n",
       "travel               67\n",
       "culture              63\n",
       "science              63\n",
       "fitness              61\n",
       "food                 61\n",
       "healthy eating       61\n",
       "cooking              60\n",
       "soccer               58\n",
       "tennis               58\n",
       "education            57\n",
       "dogs                 56\n",
       "studying             55\n",
       "veganism             48\n",
       "public speaking      48\n",
       "Fitness               5\n",
       "Animals               4\n",
       "Science               4\n",
       "\"soccer\"              3\n",
       "\"culture\"             3\n",
       "Soccer                3\n",
       "\"dogs\"                2\n",
       "Education             2\n",
       "Studying              2\n",
       "Travel                2\n",
       "Food                  2\n",
       "\"veganism\"            1\n",
       "\"public speaking\"     1\n",
       "Public Speaking       1\n",
       "\"technology\"          1\n",
       "\"cooking\"             1\n",
       "Healthy Eating        1\n",
       "\"studying\"            1\n",
       "\"food\"                1\n",
       "Culture               1\n",
       "\"tennis\"              1\n",
       "Technology            1\n",
       "\"animals\"             1\n",
       "Veganism              1\n",
       "\"science\"             1\n",
       "Name: count, dtype: int64"
      ]
     },
     "execution_count": 77,
     "metadata": {},
     "output_type": "execute_result"
    }
   ],
   "source": [
    "print(df1.Category.unique())\n",
    "df1['Category'].value_counts()"
   ]
  },
  {
   "cell_type": "code",
   "execution_count": 78,
   "id": "511c9a32",
   "metadata": {},
   "outputs": [
    {
     "name": "stdout",
     "output_type": "stream",
     "text": [
      "['studying' 'healthy eating' 'technology' 'food' 'cooking' 'dogs' 'soccer'\n",
      " 'public speaking' 'science' 'tennis' 'travel' 'fitness' 'education'\n",
      " 'veganism' 'animals' 'culture']\n"
     ]
    },
    {
     "data": {
      "text/plain": [
       "Category\n",
       "technology         73\n",
       "animals            72\n",
       "travel             69\n",
       "science            68\n",
       "culture            67\n",
       "fitness            66\n",
       "food               64\n",
       "soccer             64\n",
       "healthy eating     62\n",
       "cooking            61\n",
       "tennis             59\n",
       "education          59\n",
       "studying           58\n",
       "dogs               58\n",
       "public speaking    50\n",
       "veganism           50\n",
       "Name: count, dtype: int64"
      ]
     },
     "execution_count": 78,
     "metadata": {},
     "output_type": "execute_result"
    }
   ],
   "source": [
    "df1['Category'] = df1['Category'].str.lower().str.strip('\"')\n",
    "\n",
    "print(df1.Category.unique())\n",
    "df1['Category'].value_counts()"
   ]
  },
  {
   "cell_type": "code",
   "execution_count": 79,
   "id": "c3e006fa",
   "metadata": {},
   "outputs": [
    {
     "data": {
      "text/plain": [
       "Content ID      0\n",
       "Content_Type    0\n",
       "Category        0\n",
       "dtype: int64"
      ]
     },
     "execution_count": 79,
     "metadata": {},
     "output_type": "execute_result"
    }
   ],
   "source": [
    "df1.isnull().sum()"
   ]
  },
  {
   "cell_type": "code",
   "execution_count": 80,
   "id": "65c1c844",
   "metadata": {},
   "outputs": [],
   "source": [
    "df2.drop(['User ID'], axis=1,inplace=True) #use inplace for permanent deletion"
   ]
  },
  {
   "cell_type": "code",
   "execution_count": 81,
   "id": "b274ca6c",
   "metadata": {},
   "outputs": [
    {
     "data": {
      "text/plain": [
       "Content ID      0\n",
       "Type          980\n",
       "Datetime        0\n",
       "dtype: int64"
      ]
     },
     "execution_count": 81,
     "metadata": {},
     "output_type": "execute_result"
    }
   ],
   "source": [
    "df2.isnull().sum()\n"
   ]
  },
  {
   "cell_type": "code",
   "execution_count": 82,
   "id": "1ad52b15",
   "metadata": {},
   "outputs": [
    {
     "data": {
      "text/plain": [
       "Content ID    0\n",
       "Type          0\n",
       "Datetime      0\n",
       "dtype: int64"
      ]
     },
     "execution_count": 82,
     "metadata": {},
     "output_type": "execute_result"
    }
   ],
   "source": [
    "df2 = df2.dropna()\n",
    "df2.isnull().sum()"
   ]
  },
  {
   "cell_type": "code",
   "execution_count": 83,
   "id": "2b9a49ca",
   "metadata": {},
   "outputs": [
    {
     "data": {
      "text/plain": [
       "array(['disgust', 'dislike', 'scared', 'interested', 'peeking', 'cherish',\n",
       "       'hate', 'love', 'indifferent', 'super love', 'intrigued',\n",
       "       'worried', 'like', 'heart', 'want', 'adore'], dtype=object)"
      ]
     },
     "execution_count": 83,
     "metadata": {},
     "output_type": "execute_result"
    }
   ],
   "source": [
    "df2.Type.unique()"
   ]
  },
  {
   "cell_type": "code",
   "execution_count": 84,
   "id": "eaf0bb75",
   "metadata": {},
   "outputs": [
    {
     "data": {
      "text/plain": [
       "Type     0\n",
       "Score    0\n",
       "dtype: int64"
      ]
     },
     "execution_count": 84,
     "metadata": {},
     "output_type": "execute_result"
    }
   ],
   "source": [
    "\n",
    "df3.drop(['Sentiment'], axis=1,inplace=True)\n",
    "df3.isnull().sum()"
   ]
  },
  {
   "cell_type": "code",
   "execution_count": 85,
   "id": "062671e6",
   "metadata": {},
   "outputs": [],
   "source": [
    "# Step 2: Set 'Content_ID' as the index for both DataFrames\n",
    "#df1.set_index('Content ID', inplace=True)\n",
    "#df2.set_index('Content ID', inplace=True)\n",
    "\n",
    "# Step 3: Join df1 and df2 with suffixes\n",
    "#merged_df = df1.join(df2, lsuffix='_df1', rsuffix='_df2')\n",
    "\n",
    "# Reset the index if needed\n",
    "# merged_df.reset_index(inplace=True)\n",
    "\n",
    "# Display the merged DataFrame\n",
    "#print(\"\\nMerged DataFrame:\\n\", merged_df.head())"
   ]
  },
  {
   "cell_type": "code",
   "execution_count": 86,
   "id": "6e5213b4",
   "metadata": {},
   "outputs": [
    {
     "name": "stdout",
     "output_type": "stream",
     "text": [
      "\n",
      "Merged DataFrame:\n",
      "                                  Content ID Content_Type    Category  \\\n",
      "0      97522e57-d9ab-4bd6-97bf-c24d952602d2        photo    studying   \n",
      "1      97522e57-d9ab-4bd6-97bf-c24d952602d2        photo    studying   \n",
      "2      97522e57-d9ab-4bd6-97bf-c24d952602d2        photo    studying   \n",
      "3      97522e57-d9ab-4bd6-97bf-c24d952602d2        photo    studying   \n",
      "4      97522e57-d9ab-4bd6-97bf-c24d952602d2        photo    studying   \n",
      "...                                     ...          ...         ...   \n",
      "24568  75d6b589-7fae-4a6d-b0d0-752845150e56        audio  technology   \n",
      "24569  75d6b589-7fae-4a6d-b0d0-752845150e56        audio  technology   \n",
      "24570  75d6b589-7fae-4a6d-b0d0-752845150e56        audio  technology   \n",
      "24571  75d6b589-7fae-4a6d-b0d0-752845150e56        audio  technology   \n",
      "24572  75d6b589-7fae-4a6d-b0d0-752845150e56        audio  technology   \n",
      "\n",
      "             Type          Datetime  \n",
      "0         disgust  07-11-2020 09:43  \n",
      "1         dislike  17-06-2021 12:22  \n",
      "2          scared  18-04-2021 05:13  \n",
      "3         disgust  06-01-2021 19:13  \n",
      "4      interested  23-08-2020 12:25  \n",
      "...           ...               ...  \n",
      "24568     dislike  27-06-2020 09:46  \n",
      "24569   intrigued  16-02-2021 17:17  \n",
      "24570  interested  12-09-2020 03:54  \n",
      "24571     worried  04-11-2020 20:08  \n",
      "24572     cherish  04-01-2021 04:55  \n",
      "\n",
      "[24573 rows x 5 columns]\n"
     ]
    }
   ],
   "source": [
    "merged_df = pd.merge(df1, df2, on='Content ID', how='inner')\n",
    "print(\"\\nMerged DataFrame:\\n\", merged_df)"
   ]
  },
  {
   "cell_type": "code",
   "execution_count": 87,
   "id": "bc333fcf",
   "metadata": {},
   "outputs": [
    {
     "name": "stdout",
     "output_type": "stream",
     "text": [
      "Final merged DataFrame:\n",
      "                                  Content ID Content_Type        Category  \\\n",
      "0      97522e57-d9ab-4bd6-97bf-c24d952602d2        photo        studying   \n",
      "1      97522e57-d9ab-4bd6-97bf-c24d952602d2        photo        studying   \n",
      "2      97522e57-d9ab-4bd6-97bf-c24d952602d2        photo        studying   \n",
      "3      9f737e0a-3cdd-4d29-9d24-753f4e3be810        photo  healthy eating   \n",
      "4      230c4e4d-70c3-461d-b42c-ec09396efb3f        photo  healthy eating   \n",
      "...                                     ...          ...             ...   \n",
      "24568  435007a5-6261-4d8b-b0a4-55fdc189754b        audio        veganism   \n",
      "24569  435007a5-6261-4d8b-b0a4-55fdc189754b        audio        veganism   \n",
      "24570  4e4c9690-c013-4ee7-9e66-943d8cbd27b7          GIF         culture   \n",
      "24571  4e4c9690-c013-4ee7-9e66-943d8cbd27b7          GIF         culture   \n",
      "24572  4e4c9690-c013-4ee7-9e66-943d8cbd27b7          GIF         culture   \n",
      "\n",
      "          Type          Datetime  Score  \n",
      "0      disgust  07-11-2020 09:43      0  \n",
      "1      disgust  06-01-2021 19:13      0  \n",
      "2      disgust  09-04-2021 02:46      0  \n",
      "3      disgust  28-03-2021 21:15      0  \n",
      "4      disgust  04-08-2020 05:40      0  \n",
      "...        ...               ...    ...  \n",
      "24568    adore  04-10-2020 22:26     72  \n",
      "24569    adore  18-09-2020 10:50     72  \n",
      "24570    adore  31-10-2020 03:58     72  \n",
      "24571    adore  25-06-2020 15:12     72  \n",
      "24572    adore  17-12-2020 16:32     72  \n",
      "\n",
      "[24573 rows x 6 columns]\n"
     ]
    }
   ],
   "source": [
    "final_merged_df = pd.merge(merged_df, df3, left_on='Type', right_on='Type', how='inner')\n",
    "\n",
    "# Display the first few rows of the final merged DataFrame\n",
    "print(\"Final merged DataFrame:\\n\", final_merged_df)"
   ]
  },
  {
   "cell_type": "code",
   "execution_count": 88,
   "id": "65a6b32b",
   "metadata": {},
   "outputs": [
    {
     "name": "stdout",
     "output_type": "stream",
     "text": [
      "Top 5 Categories:\n",
      "           Category  count  total_score\n",
      "0          animals   1897        74965\n",
      "9          science   1796        71168\n",
      "7   healthy eating   1717        69339\n",
      "12      technology   1698        68738\n",
      "6             food   1699        66676\n"
     ]
    }
   ],
   "source": [
    "# Step 1: Group by 'Category' and aggregate the data\n",
    "aggregated_data = final_merged_df.groupby('Category').agg(\n",
    "    count=('Category', 'size'),\n",
    "    total_score=('Score', 'sum')\n",
    ").reset_index()\n",
    "\n",
    "# Step 2: Sort by the aggregated values (e.g., total_score)\n",
    "sorted_aggregated_data = aggregated_data.sort_values(by='total_score', ascending=False)\n",
    "\n",
    "# Step 3: Select the top 5 categories\n",
    "top_5_categories = sorted_aggregated_data.head(5)\n",
    "\n",
    "# Display the top 5 categories\n",
    "print(\"Top 5 Categories:\\n\", top_5_categories)\n",
    "\n"
   ]
  },
  {
   "cell_type": "code",
   "execution_count": 89,
   "id": "af7cb763",
   "metadata": {},
   "outputs": [
    {
     "ename": "ModuleNotFoundError",
     "evalue": "No module named 'openpyxl'",
     "output_type": "error",
     "traceback": [
      "\u001b[1;31m---------------------------------------------------------------------------\u001b[0m",
      "\u001b[1;31mModuleNotFoundError\u001b[0m                       Traceback (most recent call last)",
      "Cell \u001b[1;32mIn[89], line 1\u001b[0m\n\u001b[1;32m----> 1\u001b[0m \u001b[38;5;28;01mwith\u001b[39;00m \u001b[43mpd\u001b[49m\u001b[38;5;241;43m.\u001b[39;49m\u001b[43mExcelWriter\u001b[49m\u001b[43m(\u001b[49m\u001b[38;5;124;43m'\u001b[39;49m\u001b[38;5;124;43mfinal.xlsx\u001b[39;49m\u001b[38;5;124;43m'\u001b[39;49m\u001b[43m)\u001b[49m \u001b[38;5;28;01mas\u001b[39;00m writer:  \n\u001b[0;32m      2\u001b[0m     final_merged_df\u001b[38;5;241m.\u001b[39mto_excel(writer, sheet_name\u001b[38;5;241m=\u001b[39m\u001b[38;5;124m'\u001b[39m\u001b[38;5;124mfinal_dataset\u001b[39m\u001b[38;5;124m'\u001b[39m)\n\u001b[0;32m      3\u001b[0m     top_5_categories\u001b[38;5;241m.\u001b[39mto_excel(writer, sheet_name\u001b[38;5;241m=\u001b[39m\u001b[38;5;124m'\u001b[39m\u001b[38;5;124mtop_5_categories\u001b[39m\u001b[38;5;124m'\u001b[39m)\n",
      "File \u001b[1;32mc:\\Users\\sidhu\\AppData\\Local\\Programs\\Python\\Python311\\Lib\\site-packages\\pandas\\io\\excel\\_openpyxl.py:56\u001b[0m, in \u001b[0;36mOpenpyxlWriter.__init__\u001b[1;34m(self, path, engine, date_format, datetime_format, mode, storage_options, if_sheet_exists, engine_kwargs, **kwargs)\u001b[0m\n\u001b[0;32m     43\u001b[0m \u001b[38;5;28;01mdef\u001b[39;00m \u001b[38;5;21m__init__\u001b[39m(\n\u001b[0;32m     44\u001b[0m     \u001b[38;5;28mself\u001b[39m,\n\u001b[0;32m     45\u001b[0m     path: FilePath \u001b[38;5;241m|\u001b[39m WriteExcelBuffer \u001b[38;5;241m|\u001b[39m ExcelWriter,\n\u001b[1;32m   (...)\u001b[0m\n\u001b[0;32m     54\u001b[0m ) \u001b[38;5;241m-\u001b[39m\u001b[38;5;241m>\u001b[39m \u001b[38;5;28;01mNone\u001b[39;00m:\n\u001b[0;32m     55\u001b[0m     \u001b[38;5;66;03m# Use the openpyxl module as the Excel writer.\u001b[39;00m\n\u001b[1;32m---> 56\u001b[0m     \u001b[38;5;28;01mfrom\u001b[39;00m \u001b[38;5;21;01mopenpyxl\u001b[39;00m\u001b[38;5;21;01m.\u001b[39;00m\u001b[38;5;21;01mworkbook\u001b[39;00m \u001b[38;5;28;01mimport\u001b[39;00m Workbook\n\u001b[0;32m     58\u001b[0m     engine_kwargs \u001b[38;5;241m=\u001b[39m combine_kwargs(engine_kwargs, kwargs)\n\u001b[0;32m     60\u001b[0m     \u001b[38;5;28msuper\u001b[39m()\u001b[38;5;241m.\u001b[39m\u001b[38;5;21m__init__\u001b[39m(\n\u001b[0;32m     61\u001b[0m         path,\n\u001b[0;32m     62\u001b[0m         mode\u001b[38;5;241m=\u001b[39mmode,\n\u001b[1;32m   (...)\u001b[0m\n\u001b[0;32m     65\u001b[0m         engine_kwargs\u001b[38;5;241m=\u001b[39mengine_kwargs,\n\u001b[0;32m     66\u001b[0m     )\n",
      "\u001b[1;31mModuleNotFoundError\u001b[0m: No module named 'openpyxl'"
     ]
    }
   ],
   "source": [
    "with pd.ExcelWriter('final.xlsx') as writer:  \n",
    "    final_merged_df.to_excel(writer, sheet_name='final_dataset')\n",
    "    top_5_categories.to_excel(writer, sheet_name='top_5_categories')"
   ]
  },
  {
   "cell_type": "code",
   "execution_count": null,
   "id": "d4a3482e",
   "metadata": {},
   "outputs": [],
   "source": [
    "# import pandas as pd\n",
    "# import os\n",
    "\n",
    "# # Define the file path\n",
    "# file_path = '/Downloads/CODING/ACCENTURE/Final_data.xlsx'\n",
    "\n",
    "# # Ensure the directory exists\n",
    "# os.makedirs(os.path.dirname(file_path), exist_ok=True)\n",
    "\n",
    "# # Debug: Print the first few rows and shapes of the DataFrames\n",
    "# print(\"Final Merged DataFrame Head:\\n\", final_merged_df.head())\n",
    "# print(\"Final Merged DataFrame Shape:\", final_merged_df.shape)\n",
    "# print(\"Top 5 Categories DataFrame Head:\\n\", top_5_categories.head())\n",
    "# print(\"Top 5 Categories DataFrame Shape:\", top_5_categories.shape)\n",
    "\n",
    "# # Save the final merged DataFrame and the top 5 categories to an Excel file\n",
    "# with pd.ExcelWriter(file_path) as writer:\n",
    "#     final_merged_df.to_excel(writer, sheet_name='Final Dataset', index=False)\n",
    "#     top_5_categories.to_excel(writer, sheet_name='Top 5 Categories', index=False)\n",
    "\n",
    "# print(\"Data has been written to 'Final_data.xlsx'\")\n"
   ]
  },
  {
   "cell_type": "code",
   "execution_count": 90,
   "id": "5709b456",
   "metadata": {},
   "outputs": [],
   "source": [
    "import matplotlib.pyplot as plt\n",
    "import seaborn as sns"
   ]
  },
  {
   "cell_type": "code",
   "execution_count": 91,
   "id": "87baa482",
   "metadata": {},
   "outputs": [
    {
     "data": {
      "image/png": "[encoded data removed]",
      "text/plain": [
       "<Figure size 700x400 with 1 Axes>"
      ]
     },
     "metadata": {},
     "output_type": "display_data"
    }
   ],
   "source": [
    "plt.figure(figsize=(7, 4))\n",
    "plt.bar(top_5_categories['Category'],top_5_categories['total_score'], color='skyblue')\n",
    "# Add a title and labels\n",
    "plt.title('Top 5 Categories')\n",
    "plt.xlabel('Categories')\n",
    "plt.ylabel('Values')\n",
    "\n",
    "# Display the plot\n",
    "plt.show()"
   ]
  },
  {
   "cell_type": "code",
   "execution_count": 92,
   "id": "1b39f088",
   "metadata": {},
   "outputs": [
    {
     "name": "stdout",
     "output_type": "stream",
     "text": [
      "         Category  count  total_score\n",
      "0         animals   1897        74965\n",
      "1         science   1796        71168\n",
      "2  healthy eating   1717        69339\n",
      "3      technology   1698        68738\n",
      "4            food   1699        66676\n",
      "5          Others  15766       622759\n"
     ]
    }
   ],
   "source": [
    "others_value = sorted_aggregated_data.iloc[5:]['total_score'].sum()\n",
    "others_count = sorted_aggregated_data.iloc[5:]['count'].sum()\n",
    "others_df = pd.DataFrame([['Others', others_count, others_value]], columns=['Category', 'count', 'total_score'])\n",
    "\n",
    "# Step 5: Create final DataFrame with top 5 categories and \"Others\"\n",
    "final_df = pd.concat([top_5_categories, others_df]).reset_index(drop=True)\n",
    "\n",
    "# Print the final DataFrame\n",
    "print(final_df)"
   ]
  },
  {
   "cell_type": "code",
   "execution_count": 93,
   "id": "b6a7c2a4",
   "metadata": {},
   "outputs": [
    {
     "data": {
      "image/png": "[encoded data removed]",
      "text/plain": [
       "<Figure size 400x400 with 1 Axes>"
      ]
     },
     "metadata": {},
     "output_type": "display_data"
    }
   ],
   "source": [
    "# Calculate the percentages for the pie chart\n",
    "total_score = final_df['total_score'].sum()\n",
    "percentages = (final_df['total_score'] / total_score) * 100\n",
    "\n",
    "# Pie chart\n",
    "plt.figure(figsize=(4,4))\n",
    "plt.pie(final_df['total_score'], labels=final_df['Category'], autopct='%1.1f%%', startangle=140, colors=plt.cm.Paired(range(len(final_df))))\n",
    "plt.title('Category Distribution as Percentages')\n",
    "plt.show()"
   ]
  },
  {
   "cell_type": "code",
   "execution_count": 113,
   "id": "4d1ff92c",
   "metadata": {},
   "outputs": [
    {
     "data": {
      "image/png": "[encoded data removed]",
      "text/plain": [
       "<Figure size 700x400 with 1 Axes>"
      ]
     },
     "metadata": {},
     "output_type": "display_data"
    },
    {
     "data": {
      "image/png": "[encoded data removed]",
      "text/plain": [
       "<Figure size 700x400 with 1 Axes>"
      ]
     },
     "metadata": {},
     "output_type": "display_data"
    },
    {
     "name": "stdout",
     "output_type": "stream",
     "text": [
      "    month  Score\n",
      "0       1  82938\n",
      "1       2  75509\n",
      "2       3  78915\n",
      "3       4  78598\n",
      "4       5  86293\n",
      "5       6  80369\n",
      "6       7  82464\n",
      "7       8  82176\n",
      "8       9  80077\n",
      "9      10  82810\n",
      "10     11  82333\n",
      "11     12  81163\n",
      "    month  Content ID\n",
      "0       1        2126\n",
      "1       2        1914\n",
      "2       3        2012\n",
      "3       4        1974\n",
      "4       5        2138\n",
      "5       6        2021\n",
      "6       7        2070\n",
      "7       8        2114\n",
      "8       9        2022\n",
      "9      10        2056\n",
      "10     11        2034\n",
      "11     12        2092\n"
     ]
    }
   ],
   "source": [
    "final_merged_df['Datetime'] = pd.to_datetime(final_merged_df['Datetime'],format='%d-%m-%Y %H:%M')\n",
    "final_merged_df['month']=final_merged_df['Datetime'].dt.month\n",
    "monthwise_scores = final_merged_df.groupby('month')['Score'].sum().reset_index()\n",
    "monthwise_count=final_merged_df.groupby('month')['Content ID'].count().reset_index()\n",
    "\n",
    "# Create a bar plot\n",
    "plt.figure(figsize=(7,4))\n",
    "plt.bar(monthwise_scores['month'], monthwise_scores['Score'], color='blue')\n",
    "plt.xlabel('Month')\n",
    "plt.ylabel('Total Score')\n",
    "plt.title('Month-wise Total Scores')\n",
    "plt.show()\n",
    "plt.figure(figsize=(7,4))\n",
    "plt.bar(monthwise_count['month'], monthwise_count['Content ID'], color='green')\n",
    "plt.xlabel('Month')\n",
    "plt.ylabel('Total Posts')\n",
    "plt.title('Month-wise Total Posts')\n",
    "plt.show()\n",
    "print(monthwise_scores)\n",
    "print(monthwise_count)\n",
    "\n",
    "\n",
    "\n"
   ]
  },
  {
   "cell_type": "code",
   "execution_count": null,
   "id": "e8b4b0d0",
   "metadata": {},
   "outputs": [],
   "source": []
  }
 ],
 "metadata": {
  "kernelspec": {
   "display_name": "Python 3 (ipykernel)",
   "language": "python",
   "name": "python3"
  },
  "language_info": {
   "codemirror_mode": {
    "name": "ipython",
    "version": 3
   },
   "file_extension": ".py",
   "mimetype": "text/x-python",
   "name": "python",
   "nbconvert_exporter": "python",
   "pygments_lexer": "ipython3",
   "version": "3.11.4"
  }
 },
 "nbformat": 4,
 "nbformat_minor": 5
}
